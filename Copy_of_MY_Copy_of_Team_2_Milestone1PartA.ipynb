{
  "nbformat": 4,
  "nbformat_minor": 0,
  "metadata": {
    "colab": {
      "provenance": [],
      "collapsed_sections": [],
      "include_colab_link": true
    },
    "kernelspec": {
      "display_name": "Python 3",
      "language": "python",
      "name": "python3"
    }
  },
  "cells": [
    {
      "cell_type": "markdown",
      "metadata": {
        "id": "view-in-github",
        "colab_type": "text"
      },
      "source": [
        "<a href=\"https://colab.research.google.com/github/shankardatta2/Projects/blob/main/Copy_of_MY_Copy_of_Team_2_Milestone1PartA.ipynb\" target=\"_parent\"><img src=\"https://colab.research.google.com/assets/colab-badge.svg\" alt=\"Open In Colab\"/></a>"
      ]
    },
    {
      "cell_type": "markdown",
      "metadata": {
        "id": "bYVyLRKTONBE"
      },
      "source": [
        "## Milestone 1 Part A \n",
        "#### *(last edited: 4:30 PM, 10/31/2022)*\n",
        "\n",
        "---\n",
        "\n",
        "The main goal of this milestone is to perform a low level summarization on the dataset assigned to your group.\n",
        "\n",
        "The final outcome of this project is to create a topic based summary of a given document\n",
        "\n",
        "**Please follow the instruction to work out this milestone. DO NOT use any ready to use algorithms or libraries for this milestone** "
      ]
    },
    {
      "cell_type": "markdown",
      "metadata": {
        "id": "gliu_55hONBK"
      },
      "source": [
        "**What's in the dataset and which one to use:**  \n",
        "a)   \n",
        "Team #1 please use\n",
        "[BBC News Summary/News Article/tech](https://drive.google.com/drive/folders/1wyTM67xGJwYlmxG33sbgQevUrSM4gZJ5?usp=share_link)\n",
        "\n",
        "Team #2 please use\n",
        "[BBC News Summary/News Article/sport](https://drive.google.com/drive/folders/1Ad8ZuvmVwccPLpuHGQ35TvlPDowf3knb?usp=share_link) \n",
        "\n",
        "\n",
        "Team #3 please use\n",
        "[BBC News Summary/News Article/politics](https://drive.google.com/drive/folders/1mzVdLFmImv86M6tFa03DxrEIelqKIQQU?usp=share_link) \n",
        "\n",
        "\n",
        "Team #4 please use\n",
        "[BBC News Summary/News Article/entertainment](https://drive.google.com/drive/folders/1VJumzOPuIASdNDmbjqoylfNzvVXSAOIB?usp=share_link) \n",
        "\n",
        "Team #5 please use\n",
        "[BBC News Summary/News Article/business](https://drive.google.com/drive/folders/11zVw9d1ewLamBlgPpolf6FBu5onaoAny?usp=share_link)  \n",
        "\n",
        "\n",
        "b) Each dataset has around four to five hundred  news articles of BBC from 2004 to 2005. The first clause of the text of articles is the respective title.\n",
        "\n",
        "\n",
        "\n",
        "c) There may be unwanted words or characters in the datasets.\n",
        "\n",
        "d) Try to retain the original information provided in the dataset. Try not to change or delete any part of the given dataset unless it is absolutely necessary.\n",
        "\n",
        "e) You must use this template to add your code and comments when you submit your team project results in the form of another Colab.\n",
        "\n",
        "f) Please add me (chris.tseng@sjsu.edu) and the TA (pranavabhijit.ghaskadbi@sjsu.edu) to your discord group and email the TA the following:   \n",
        "f.1 your section (1 or 2)   \n",
        "f.2 your team #(1,.., 5)   \n",
        "f.3 the link to your discord discussion group\n"
      ]
    },
    {
      "cell_type": "markdown",
      "source": [
        "## Main tasks\n"
      ],
      "metadata": {
        "id": "efaIkcBqzPhr"
      }
    },
    {
      "cell_type": "markdown",
      "source": [
        "--- \n",
        "**Remember to use Markdown cells to describe your work**   \n",
        "*Do not simply use #s in your code cells for commemnt description*"
      ],
      "metadata": {
        "id": "cN7unhSRk4LC"
      }
    },
    {
      "cell_type": "markdown",
      "metadata": {
        "id": "08quaphDONBR"
      },
      "source": [
        "**Load packages:**"
      ]
    },
    {
      "cell_type": "code",
      "source": [
        "# !pip install -U textblob\n",
        "# !python -m textblob.download_corpora lite"
      ],
      "metadata": {
        "id": "Xa9ML54T8gXZ"
      },
      "execution_count": null,
      "outputs": []
    },
    {
      "cell_type": "code",
      "execution_count": null,
      "metadata": {
        "collapsed": true,
        "id": "WlSVt4OYP2ri"
      },
      "outputs": [],
      "source": [
        "import pandas as pd\n",
        "import numpy as np\n",
        "import scipy as sp\n",
        "from sklearn.model_selection import train_test_split\n",
        "from sklearn.feature_extraction.text import CountVectorizer, TfidfVectorizer\n",
        "from sklearn.naive_bayes import MultinomialNB         # Naive Bayes\n",
        "from sklearn.linear_model import LogisticRegression\n",
        "from sklearn import metrics\n",
        "from textblob import TextBlob, Word\n",
        "from nltk.stem.snowball import SnowballStemmer\n",
        "import matplotlib.pyplot as plt\n",
        "\n",
        "%matplotlib inline"
      ]
    },
    {
      "cell_type": "code",
      "source": [
        "from nltk.tokenize import sent_tokenize, word_tokenize\n",
        "from textblob.tokenizers import WordTokenizer\n",
        "import nltk\n",
        "# from nltk.tag import pos_tag\n",
        "nltk.download('averaged_perceptron_tagger')\n",
        "nltk.download('punkt')"
      ],
      "metadata": {
        "colab": {
          "base_uri": "https://localhost:8080/"
        },
        "id": "fLQvIY3RaiZO",
        "outputId": "b662a73b-e13b-4f06-c706-3e0684b3ddbe"
      },
      "execution_count": null,
      "outputs": [
        {
          "output_type": "stream",
          "name": "stderr",
          "text": [
            "[nltk_data] Downloading package averaged_perceptron_tagger to\n",
            "[nltk_data]     /root/nltk_data...\n",
            "[nltk_data]   Unzipping taggers/averaged_perceptron_tagger.zip.\n",
            "[nltk_data] Downloading package punkt to /root/nltk_data...\n",
            "[nltk_data]   Package punkt is already up-to-date!\n"
          ]
        },
        {
          "output_type": "execute_result",
          "data": {
            "text/plain": [
              "True"
            ]
          },
          "metadata": {},
          "execution_count": 68
        }
      ]
    },
    {
      "cell_type": "markdown",
      "metadata": {
        "id": "HsI1G36HHj27"
      },
      "source": [
        "## Get a copy of the data to your own Google drive\n",
        "Step 1. Use [this chrome app](https://script.google.com/macros/s/AKfycbxbGNGajrxv-HbX2sVY2OTu7yj9VvxlOMOeQblZFuq7rYm7uyo/exec) to copy the[ BBC News Summary](https://drive.google.com/drive/folders/1ZryN8xuRFi0LNYPS1zfZ43RsuW0L6lij?usp=share_link) folder that I shared with you to your own drive.  \n",
        "Step 2. Put the copied folder in the exact path under your Google drive, i.e., ``` /content/drive/MyDrive/sharedata/BBC News Summary ```, so you collaborate with your team members and get graded subsequently.   \n",
        "\n",
        "Step 3. <font color =red>0 project score </font> will be given for <font color =red>not following this folder configuration</font> in step 2.\n",
        "(Our grader is not reponsible to figure out your own perferred Google folder configuration)"
      ]
    },
    {
      "cell_type": "code",
      "metadata": {
        "colab": {
          "base_uri": "https://localhost:8080/"
        },
        "id": "uxY-BsXTGEUi",
        "outputId": "7248b0a5-cf31-4e98-a11e-d07d384eaa67"
      },
      "source": [
        "from google.colab import drive\n",
        "drive.mount('/content/drive')"
      ],
      "execution_count": null,
      "outputs": [
        {
          "output_type": "stream",
          "name": "stdout",
          "text": [
            "Mounted at /content/drive\n"
          ]
        }
      ]
    },
    {
      "cell_type": "code",
      "metadata": {
        "id": "1WbzJM4cYp1I",
        "colab": {
          "base_uri": "https://localhost:8080/"
        },
        "outputId": "a542a921-7398-406e-9597-2fe79fc96ece"
      },
      "source": [
        "#1 Mount the Google drive in preparation for data access\n",
        "!pip install -U path.py\n",
        "import numpy as np\n",
        "import pandas as pd\n",
        "import os\n",
        "from path import Path\n",
        "# from google.colab import drive\n",
        "# drive.mount('/content/drive')"
      ],
      "execution_count": null,
      "outputs": [
        {
          "output_type": "stream",
          "name": "stdout",
          "text": [
            "Looking in indexes: https://pypi.org/simple, https://us-python.pkg.dev/colab-wheels/public/simple/\n",
            "Collecting path.py\n",
            "  Downloading path.py-12.5.0-py3-none-any.whl (2.3 kB)\n",
            "Collecting path\n",
            "  Downloading path-16.5.0-py3-none-any.whl (26 kB)\n",
            "Installing collected packages: path, path.py\n",
            "Successfully installed path-16.5.0 path.py-12.5.0\n"
          ]
        }
      ]
    },
    {
      "cell_type": "markdown",
      "metadata": {
        "id": "x22diyVvONBc"
      },
      "source": [
        "<a id='load_data'></a>\n",
        "\n",
        "### Load the data\n",
        "\n",
        "---\n",
        "\n",
        "Import the assinged data into a pandas DataFrame.\n",
        "(Extend the code below to access other files under your assigned folder)"
      ]
    },
    {
      "cell_type": "code",
      "metadata": {
        "id": "ubjxW9IrYrMG",
        "colab": {
          "base_uri": "https://localhost:8080/"
        },
        "outputId": "d1776b53-3b90-4b5e-e5e8-512ac7720180"
      },
      "source": [
        "corpus = []\n",
        "corpus_dir = Path('/content/drive/MyDrive/sharedata/BBC News Summary/News Articles/sport')\n",
        "\n",
        "for i in range(1, 511):\n",
        "  file_number = '%0*d' % (3, i)\n",
        "  with open(f'{corpus_dir}/{file_number}.txt', mode='rt', encoding='utf-8') as fp:\n",
        "    try:\n",
        "      lines = fp.read().splitlines()\n",
        "      corpus.append([i for i in lines if i])\n",
        "    except:\n",
        "      corpus.append([])\n",
        "      print('There is an error with the following file:\\n', f'{file_number}.txt')"
      ],
      "execution_count": null,
      "outputs": [
        {
          "metadata": {
            "tags": null
          },
          "name": "stdout",
          "output_type": "stream",
          "text": [
            "There is an error with the following file:\n",
            " 199.txt\n"
          ]
        }
      ]
    },
    {
      "cell_type": "markdown",
      "source": [
        "### Show what the first txt file looks like"
      ],
      "metadata": {
        "id": "m8dWe8UdnAri"
      }
    },
    {
      "cell_type": "code",
      "source": [
        "corpus[0]"
      ],
      "metadata": {
        "colab": {
          "base_uri": "https://localhost:8080/"
        },
        "id": "cjUDWZN7nMFg",
        "outputId": "eef328ad-eda2-448c-8f66-838d530cb796"
      },
      "execution_count": null,
      "outputs": [
        {
          "output_type": "execute_result",
          "data": {
            "text/plain": [
              "['Claxton hunting first major medal',\n",
              " \"British hurdler Sarah Claxton is confident she can win her first major medal at next month's European Indoor Championships in Madrid.\",\n",
              " 'The 25-year-old has already smashed the British record over 60m hurdles twice this season, setting a new mark of 7.96 seconds to win the AAAs title. \"I am quite confident,\" said Claxton. \"But I take each race as it comes. \"As long as I keep up my training but not do too much I think there is a chance of a medal.\" Claxton has won the national 60m hurdles title for the past three years but has struggled to translate her domestic success to the international stage. Now, the Scotland-born athlete owns the equal fifth-fastest time in the world this year. And at last week\\'s Birmingham Grand Prix, Claxton left European medal favourite Russian Irina Shevchenko trailing in sixth spot.',\n",
              " 'For the first time, Claxton has only been preparing for a campaign over the hurdles - which could explain her leap in form. In previous seasons, the 25-year-old also contested the long jump but since moving from Colchester to London she has re-focused her attentions. Claxton will see if her new training regime pays dividends at the European Indoors which take place on 5-6 March.']"
            ]
          },
          "metadata": {},
          "execution_count": 24
        }
      ]
    },
    {
      "cell_type": "markdown",
      "source": [
        "### How many txt files are under your assigned folder?"
      ],
      "metadata": {
        "id": "NgN5zqePnOmV"
      }
    },
    {
      "cell_type": "code",
      "execution_count": null,
      "metadata": {
        "id": "h5Gzs6ctmeqt",
        "colab": {
          "base_uri": "https://localhost:8080/"
        },
        "outputId": "02e19ebf-93a1-4eba-dff6-378760afbea4"
      },
      "outputs": [
        {
          "output_type": "stream",
          "name": "stdout",
          "text": [
            "There are 510 text files under my assigned folder\n"
          ]
        }
      ],
      "source": [
        "print('There are {} text files under my assigned folder'.format(len(corpus)))"
      ]
    },
    {
      "cell_type": "markdown",
      "metadata": {
        "id": "NvWmeTJPnp5v"
      },
      "source": [
        "<a name='tokenize'></a>\n",
        "\n",
        "### 1. Tokenize all sentences in the give survey dataset with TFIDF.\n",
        "\n",
        "- Start with default parameters.\n",
        "- How many rows and columns are there in the resultant vectorized dataframe.\n"
      ]
    },
    {
      "cell_type": "code",
      "source": [
        "documents = []\n",
        "for x in corpus:\n",
        "  common = ''\n",
        "  for i, sentence in enumerate(x):\n",
        "    if i == 0: \n",
        "      common += sentence + '.\\n'\n",
        "    else: common += sentence + '\\n'\n",
        "  documents.append(common)"
      ],
      "metadata": {
        "id": "rOSukIj0-UUK"
      },
      "execution_count": null,
      "outputs": []
    },
    {
      "cell_type": "code",
      "source": [
        "print(documents[0])"
      ],
      "metadata": {
        "id": "UInBpwhAnp5x",
        "colab": {
          "base_uri": "https://localhost:8080/"
        },
        "outputId": "b3299232-690d-4b91-9a0a-0f0ced58aab0"
      },
      "execution_count": null,
      "outputs": [
        {
          "output_type": "stream",
          "name": "stdout",
          "text": [
            "Claxton hunting first major medal.\n",
            "British hurdler Sarah Claxton is confident she can win her first major medal at next month's European Indoor Championships in Madrid.\n",
            "The 25-year-old has already smashed the British record over 60m hurdles twice this season, setting a new mark of 7.96 seconds to win the AAAs title. \"I am quite confident,\" said Claxton. \"But I take each race as it comes. \"As long as I keep up my training but not do too much I think there is a chance of a medal.\" Claxton has won the national 60m hurdles title for the past three years but has struggled to translate her domestic success to the international stage. Now, the Scotland-born athlete owns the equal fifth-fastest time in the world this year. And at last week's Birmingham Grand Prix, Claxton left European medal favourite Russian Irina Shevchenko trailing in sixth spot.\n",
            "For the first time, Claxton has only been preparing for a campaign over the hurdles - which could explain her leap in form. In previous seasons, the 25-year-old also contested the long jump but since moving from Colchester to London she has re-focused her attentions. Claxton will see if her new training regime pays dividends at the European Indoors which take place on 5-6 March.\n",
            "\n"
          ]
        }
      ]
    },
    {
      "cell_type": "code",
      "source": [
        "tfidfVect = TfidfVectorizer()"
      ],
      "metadata": {
        "id": "uJoS-6KvhSLp"
      },
      "execution_count": null,
      "outputs": []
    },
    {
      "cell_type": "code",
      "source": [
        "df_corpus = pd.DataFrame(tfidfVect.fit_transform(documents).toarray(),\n",
        "                  columns=tfidfVect.get_feature_names())\n",
        "df_corpus.head()"
      ],
      "metadata": {
        "colab": {
          "base_uri": "https://localhost:8080/",
          "height": 287
        },
        "id": "pE7cESNdQnTb",
        "outputId": "219e64d1-d621-4aec-dc40-b676d344c97e"
      },
      "execution_count": null,
      "outputs": [
        {
          "output_type": "stream",
          "name": "stderr",
          "text": [
            "/usr/local/lib/python3.7/dist-packages/sklearn/utils/deprecation.py:87: FutureWarning: Function get_feature_names is deprecated; get_feature_names is deprecated in 1.0 and will be removed in 1.2. Please use get_feature_names_out instead.\n",
            "  warnings.warn(msg, category=FutureWarning)\n"
          ]
        },
        {
          "output_type": "execute_result",
          "data": {
            "text/plain": [
              "    00  000      000m        01        02  0227  033   04  04secs   05  ...  \\\n",
              "0  0.0  0.0  0.000000  0.000000  0.000000   0.0  0.0  0.0     0.0  0.0  ...   \n",
              "1  0.0  0.0  0.000000  0.000000  0.000000   0.0  0.0  0.0     0.0  0.0  ...   \n",
              "2  0.0  0.0  0.000000  0.000000  0.066885   0.0  0.0  0.0     0.0  0.0  ...   \n",
              "3  0.0  0.0  0.000000  0.000000  0.000000   0.0  0.0  0.0     0.0  0.0  ...   \n",
              "4  0.0  0.0  0.211252  0.105393  0.000000   0.0  0.0  0.0     0.0  0.0  ...   \n",
              "\n",
              "   zinc  zinedine  zoe  zogbia  zola  zone  zornotza  zuluaga  zurich  \\\n",
              "0   0.0       0.0  0.0     0.0   0.0   0.0       0.0      0.0     0.0   \n",
              "1   0.0       0.0  0.0     0.0   0.0   0.0       0.0      0.0     0.0   \n",
              "2   0.0       0.0  0.0     0.0   0.0   0.0       0.0      0.0     0.0   \n",
              "3   0.0       0.0  0.0     0.0   0.0   0.0       0.0      0.0     0.0   \n",
              "4   0.0       0.0  0.0     0.0   0.0   0.0       0.0      0.0     0.0   \n",
              "\n",
              "   zvonareva  \n",
              "0        0.0  \n",
              "1        0.0  \n",
              "2        0.0  \n",
              "3        0.0  \n",
              "4        0.0  \n",
              "\n",
              "[5 rows x 10556 columns]"
            ],
            "text/html": [
              "\n",
              "  <div id=\"df-12e0b17f-ce96-4500-aa5b-ab8695ed2fce\">\n",
              "    <div class=\"colab-df-container\">\n",
              "      <div>\n",
              "<style scoped>\n",
              "    .dataframe tbody tr th:only-of-type {\n",
              "        vertical-align: middle;\n",
              "    }\n",
              "\n",
              "    .dataframe tbody tr th {\n",
              "        vertical-align: top;\n",
              "    }\n",
              "\n",
              "    .dataframe thead th {\n",
              "        text-align: right;\n",
              "    }\n",
              "</style>\n",
              "<table border=\"1\" class=\"dataframe\">\n",
              "  <thead>\n",
              "    <tr style=\"text-align: right;\">\n",
              "      <th></th>\n",
              "      <th>00</th>\n",
              "      <th>000</th>\n",
              "      <th>000m</th>\n",
              "      <th>01</th>\n",
              "      <th>02</th>\n",
              "      <th>0227</th>\n",
              "      <th>033</th>\n",
              "      <th>04</th>\n",
              "      <th>04secs</th>\n",
              "      <th>05</th>\n",
              "      <th>...</th>\n",
              "      <th>zinc</th>\n",
              "      <th>zinedine</th>\n",
              "      <th>zoe</th>\n",
              "      <th>zogbia</th>\n",
              "      <th>zola</th>\n",
              "      <th>zone</th>\n",
              "      <th>zornotza</th>\n",
              "      <th>zuluaga</th>\n",
              "      <th>zurich</th>\n",
              "      <th>zvonareva</th>\n",
              "    </tr>\n",
              "  </thead>\n",
              "  <tbody>\n",
              "    <tr>\n",
              "      <th>0</th>\n",
              "      <td>0.0</td>\n",
              "      <td>0.0</td>\n",
              "      <td>0.000000</td>\n",
              "      <td>0.000000</td>\n",
              "      <td>0.000000</td>\n",
              "      <td>0.0</td>\n",
              "      <td>0.0</td>\n",
              "      <td>0.0</td>\n",
              "      <td>0.0</td>\n",
              "      <td>0.0</td>\n",
              "      <td>...</td>\n",
              "      <td>0.0</td>\n",
              "      <td>0.0</td>\n",
              "      <td>0.0</td>\n",
              "      <td>0.0</td>\n",
              "      <td>0.0</td>\n",
              "      <td>0.0</td>\n",
              "      <td>0.0</td>\n",
              "      <td>0.0</td>\n",
              "      <td>0.0</td>\n",
              "      <td>0.0</td>\n",
              "    </tr>\n",
              "    <tr>\n",
              "      <th>1</th>\n",
              "      <td>0.0</td>\n",
              "      <td>0.0</td>\n",
              "      <td>0.000000</td>\n",
              "      <td>0.000000</td>\n",
              "      <td>0.000000</td>\n",
              "      <td>0.0</td>\n",
              "      <td>0.0</td>\n",
              "      <td>0.0</td>\n",
              "      <td>0.0</td>\n",
              "      <td>0.0</td>\n",
              "      <td>...</td>\n",
              "      <td>0.0</td>\n",
              "      <td>0.0</td>\n",
              "      <td>0.0</td>\n",
              "      <td>0.0</td>\n",
              "      <td>0.0</td>\n",
              "      <td>0.0</td>\n",
              "      <td>0.0</td>\n",
              "      <td>0.0</td>\n",
              "      <td>0.0</td>\n",
              "      <td>0.0</td>\n",
              "    </tr>\n",
              "    <tr>\n",
              "      <th>2</th>\n",
              "      <td>0.0</td>\n",
              "      <td>0.0</td>\n",
              "      <td>0.000000</td>\n",
              "      <td>0.000000</td>\n",
              "      <td>0.066885</td>\n",
              "      <td>0.0</td>\n",
              "      <td>0.0</td>\n",
              "      <td>0.0</td>\n",
              "      <td>0.0</td>\n",
              "      <td>0.0</td>\n",
              "      <td>...</td>\n",
              "      <td>0.0</td>\n",
              "      <td>0.0</td>\n",
              "      <td>0.0</td>\n",
              "      <td>0.0</td>\n",
              "      <td>0.0</td>\n",
              "      <td>0.0</td>\n",
              "      <td>0.0</td>\n",
              "      <td>0.0</td>\n",
              "      <td>0.0</td>\n",
              "      <td>0.0</td>\n",
              "    </tr>\n",
              "    <tr>\n",
              "      <th>3</th>\n",
              "      <td>0.0</td>\n",
              "      <td>0.0</td>\n",
              "      <td>0.000000</td>\n",
              "      <td>0.000000</td>\n",
              "      <td>0.000000</td>\n",
              "      <td>0.0</td>\n",
              "      <td>0.0</td>\n",
              "      <td>0.0</td>\n",
              "      <td>0.0</td>\n",
              "      <td>0.0</td>\n",
              "      <td>...</td>\n",
              "      <td>0.0</td>\n",
              "      <td>0.0</td>\n",
              "      <td>0.0</td>\n",
              "      <td>0.0</td>\n",
              "      <td>0.0</td>\n",
              "      <td>0.0</td>\n",
              "      <td>0.0</td>\n",
              "      <td>0.0</td>\n",
              "      <td>0.0</td>\n",
              "      <td>0.0</td>\n",
              "    </tr>\n",
              "    <tr>\n",
              "      <th>4</th>\n",
              "      <td>0.0</td>\n",
              "      <td>0.0</td>\n",
              "      <td>0.211252</td>\n",
              "      <td>0.105393</td>\n",
              "      <td>0.000000</td>\n",
              "      <td>0.0</td>\n",
              "      <td>0.0</td>\n",
              "      <td>0.0</td>\n",
              "      <td>0.0</td>\n",
              "      <td>0.0</td>\n",
              "      <td>...</td>\n",
              "      <td>0.0</td>\n",
              "      <td>0.0</td>\n",
              "      <td>0.0</td>\n",
              "      <td>0.0</td>\n",
              "      <td>0.0</td>\n",
              "      <td>0.0</td>\n",
              "      <td>0.0</td>\n",
              "      <td>0.0</td>\n",
              "      <td>0.0</td>\n",
              "      <td>0.0</td>\n",
              "    </tr>\n",
              "  </tbody>\n",
              "</table>\n",
              "<p>5 rows × 10556 columns</p>\n",
              "</div>\n",
              "      <button class=\"colab-df-convert\" onclick=\"convertToInteractive('df-12e0b17f-ce96-4500-aa5b-ab8695ed2fce')\"\n",
              "              title=\"Convert this dataframe to an interactive table.\"\n",
              "              style=\"display:none;\">\n",
              "        \n",
              "  <svg xmlns=\"http://www.w3.org/2000/svg\" height=\"24px\"viewBox=\"0 0 24 24\"\n",
              "       width=\"24px\">\n",
              "    <path d=\"M0 0h24v24H0V0z\" fill=\"none\"/>\n",
              "    <path d=\"M18.56 5.44l.94 2.06.94-2.06 2.06-.94-2.06-.94-.94-2.06-.94 2.06-2.06.94zm-11 1L8.5 8.5l.94-2.06 2.06-.94-2.06-.94L8.5 2.5l-.94 2.06-2.06.94zm10 10l.94 2.06.94-2.06 2.06-.94-2.06-.94-.94-2.06-.94 2.06-2.06.94z\"/><path d=\"M17.41 7.96l-1.37-1.37c-.4-.4-.92-.59-1.43-.59-.52 0-1.04.2-1.43.59L10.3 9.45l-7.72 7.72c-.78.78-.78 2.05 0 2.83L4 21.41c.39.39.9.59 1.41.59.51 0 1.02-.2 1.41-.59l7.78-7.78 2.81-2.81c.8-.78.8-2.07 0-2.86zM5.41 20L4 18.59l7.72-7.72 1.47 1.35L5.41 20z\"/>\n",
              "  </svg>\n",
              "      </button>\n",
              "      \n",
              "  <style>\n",
              "    .colab-df-container {\n",
              "      display:flex;\n",
              "      flex-wrap:wrap;\n",
              "      gap: 12px;\n",
              "    }\n",
              "\n",
              "    .colab-df-convert {\n",
              "      background-color: #E8F0FE;\n",
              "      border: none;\n",
              "      border-radius: 50%;\n",
              "      cursor: pointer;\n",
              "      display: none;\n",
              "      fill: #1967D2;\n",
              "      height: 32px;\n",
              "      padding: 0 0 0 0;\n",
              "      width: 32px;\n",
              "    }\n",
              "\n",
              "    .colab-df-convert:hover {\n",
              "      background-color: #E2EBFA;\n",
              "      box-shadow: 0px 1px 2px rgba(60, 64, 67, 0.3), 0px 1px 3px 1px rgba(60, 64, 67, 0.15);\n",
              "      fill: #174EA6;\n",
              "    }\n",
              "\n",
              "    [theme=dark] .colab-df-convert {\n",
              "      background-color: #3B4455;\n",
              "      fill: #D2E3FC;\n",
              "    }\n",
              "\n",
              "    [theme=dark] .colab-df-convert:hover {\n",
              "      background-color: #434B5C;\n",
              "      box-shadow: 0px 1px 3px 1px rgba(0, 0, 0, 0.15);\n",
              "      filter: drop-shadow(0px 1px 2px rgba(0, 0, 0, 0.3));\n",
              "      fill: #FFFFFF;\n",
              "    }\n",
              "  </style>\n",
              "\n",
              "      <script>\n",
              "        const buttonEl =\n",
              "          document.querySelector('#df-12e0b17f-ce96-4500-aa5b-ab8695ed2fce button.colab-df-convert');\n",
              "        buttonEl.style.display =\n",
              "          google.colab.kernel.accessAllowed ? 'block' : 'none';\n",
              "\n",
              "        async function convertToInteractive(key) {\n",
              "          const element = document.querySelector('#df-12e0b17f-ce96-4500-aa5b-ab8695ed2fce');\n",
              "          const dataTable =\n",
              "            await google.colab.kernel.invokeFunction('convertToInteractive',\n",
              "                                                     [key], {});\n",
              "          if (!dataTable) return;\n",
              "\n",
              "          const docLinkHtml = 'Like what you see? Visit the ' +\n",
              "            '<a target=\"_blank\" href=https://colab.research.google.com/notebooks/data_table.ipynb>data table notebook</a>'\n",
              "            + ' to learn more about interactive tables.';\n",
              "          element.innerHTML = '';\n",
              "          dataTable['output_type'] = 'display_data';\n",
              "          await google.colab.output.renderOutput(dataTable, element);\n",
              "          const docLink = document.createElement('div');\n",
              "          docLink.innerHTML = docLinkHtml;\n",
              "          element.appendChild(docLink);\n",
              "        }\n",
              "      </script>\n",
              "    </div>\n",
              "  </div>\n",
              "  "
            ]
          },
          "metadata": {},
          "execution_count": 30
        }
      ]
    },
    {
      "cell_type": "code",
      "source": [
        "df_corpus.shape"
      ],
      "metadata": {
        "id": "kHKSjHVAnl-f",
        "colab": {
          "base_uri": "https://localhost:8080/"
        },
        "outputId": "9ea9225e-205d-4f75-8774-1009c65338c4"
      },
      "execution_count": null,
      "outputs": [
        {
          "output_type": "execute_result",
          "data": {
            "text/plain": [
              "(510, 10556)"
            ]
          },
          "metadata": {},
          "execution_count": 31
        }
      ]
    },
    {
      "cell_type": "code",
      "source": [
        "print(f'The number of rows are: {df_corpus.shape[0]}')\n",
        "print(f'The number of columns are: {df_corpus.shape[1]}')"
      ],
      "metadata": {
        "colab": {
          "base_uri": "https://localhost:8080/"
        },
        "id": "MnMFa15yAHIC",
        "outputId": "db3b0141-478a-4e52-873c-b497bc940fd3"
      },
      "execution_count": null,
      "outputs": [
        {
          "output_type": "stream",
          "name": "stdout",
          "text": [
            "The number of rows are: 510\n",
            "The number of columns are: 10556\n"
          ]
        }
      ]
    },
    {
      "cell_type": "markdown",
      "source": [
        "<a name='stopwords'></a>\n",
        "\n",
        "### 2. Show the top words\n",
        "\n",
        "- Visualize them with a bar chart with frequency in y axis and words in the x-axis\n",
        "- You may selectively choose top words as the stop words for your processing needs"
      ],
      "metadata": {
        "id": "ato9_TL3pvoS"
      }
    },
    {
      "cell_type": "code",
      "source": [
        "# get count of top-occurring words\n",
        "top_words_tf = {}\n",
        "for i in df_corpus.columns:\n",
        "    top_words_tf[i] =  df_corpus[i].sum()\n",
        "    \n",
        "# top_words to dataframe sorted by highest occurance\n",
        "most_freq_tf = pd.DataFrame(sorted(top_words_tf.items(), key = lambda x: x[1], reverse = True))\n",
        "\n",
        "plt.figure(figsize = (20, 5))\n",
        "\n",
        "# visualize top 20 words\n",
        "plt.bar(most_freq_tf[0][:20], most_freq_tf[1][:20]);"
      ],
      "metadata": {
        "id": "G1KofthqA-za",
        "colab": {
          "base_uri": "https://localhost:8080/",
          "height": 320
        },
        "outputId": "4a35dff8-2aef-435e-86eb-b770cb89d7d5"
      },
      "execution_count": null,
      "outputs": [
        {
          "output_type": "display_data",
          "data": {
            "text/plain": [
              "<Figure size 1440x360 with 1 Axes>"
            ],
            "image/png": "[encoded data removed]"
          },
          "metadata": {
            "needs_background": "light"
          }
        }
      ]
    },
    {
      "cell_type": "code",
      "source": [
        "stop_words = most_freq_tf[0][:20].tolist()"
      ],
      "metadata": {
        "id": "YYWaY0SDHwD7"
      },
      "execution_count": null,
      "outputs": []
    },
    {
      "cell_type": "code",
      "source": [
        "tfidfVect = TfidfVectorizer(stop_words = stop_words)\n",
        "tokenized_words = tfidfVect.fit_transform(documents)"
      ],
      "metadata": {
        "id": "-PfUIF70Ibqt"
      },
      "execution_count": null,
      "outputs": []
    },
    {
      "cell_type": "code",
      "source": [
        "columns = tfidfVect.get_feature_names_out()"
      ],
      "metadata": {
        "id": "LGb5oF94JriM"
      },
      "execution_count": null,
      "outputs": []
    },
    {
      "cell_type": "code",
      "source": [
        "print(f'The number of rows are: {len(tokenized_words.toarray())}')\n",
        "print(f'The number of columns are: {len(columns)}')"
      ],
      "metadata": {
        "id": "m1J_ArFvJ9Nb",
        "outputId": "734f3782-704e-4ea1-dd30-dd3b3973db86",
        "colab": {
          "base_uri": "https://localhost:8080/"
        }
      },
      "execution_count": null,
      "outputs": [
        {
          "output_type": "stream",
          "name": "stdout",
          "text": [
            "The number of rows are: 510\n",
            "The number of columns are: 10536\n"
          ]
        }
      ]
    },
    {
      "cell_type": "markdown",
      "source": [
        "### After preprocessing the text, it is necessary to extract features and calculate the functions of the sentence, the results of which are vectors of several elements for each sentence. The elements of each vector take values in the interval [0, 1]. We consider the following features"
      ],
      "metadata": {
        "id": "7maz6QP_f0WR"
      }
    },
    {
      "cell_type": "markdown",
      "source": [
        "## Write a function for each of the features below that would return the feature score for any given sentence"
      ],
      "metadata": {
        "id": "ypa3XIPgwCMl"
      }
    },
    {
      "cell_type": "markdown",
      "metadata": {
        "id": "yjnLZrHkorCh"
      },
      "source": [
        "<a name='title'></a>\n",
        "\n",
        "### 3. Title feature (F1)\n",
        "It is defined as a ratio of the number of matches of the Title words (Tw) in the current sentence (S) to the number of words (w) of the Title (T)   \n",
        "\n",
        "<img alt=\"F1\" src=\"https://drive.google.com/uc?export=view&id=1J1GGrkuGcHhPlGRIo7xmPlwHLe0I2LcV\">"
      ]
    },
    {
      "cell_type": "code",
      "source": [
        "def F1_Scores(sentences):\n",
        "  count_vect = CountVectorizer()\n",
        "  matrix_vector = count_vect.fit_transform(sentences).toarray()\n",
        "  print(matrix_vector)\n",
        "  number_of_words_in_title = sum(a == 1 for a in matrix_vector[0])\n",
        "  print(number_of_words_in_title)\n",
        "  scores = []\n",
        "  for i in range(len(matrix_vector)):\n",
        "    score = (sum(a==b and a == 1 for a,b in zip(matrix_vector[0],matrix_vector[i])))/(number_of_words_in_title)\n",
        "    scores.append(score)\n",
        "  return scores"
      ],
      "metadata": {
        "id": "Mj0A2T1vorCw"
      },
      "execution_count": null,
      "outputs": []
    },
    {
      "cell_type": "code",
      "source": [
        "sentences = sent_tokenize(str(documents[0]))\n",
        "# F1_Scores(documents[0])\n",
        "sentences\n",
        "F1_Scores(sentences)"
      ],
      "metadata": {
        "colab": {
          "base_uri": "https://localhost:8080/"
        },
        "id": "PRExyxV0kGPX",
        "outputId": "797bc3f2-a72f-4746-eddb-65258250f1c5"
      },
      "execution_count": null,
      "outputs": [
        {
          "output_type": "stream",
          "name": "stdout",
          "text": [
            "[[0 0 0 ... 0 0 0]\n",
            " [0 0 0 ... 0 0 0]\n",
            " [1 1 1 ... 0 1 0]\n",
            " ...\n",
            " [0 0 0 ... 0 0 0]\n",
            " [1 0 0 ... 0 1 0]\n",
            " [0 0 0 ... 0 0 0]]\n",
            "5\n"
          ]
        },
        {
          "output_type": "execute_result",
          "data": {
            "text/plain": [
              "[1.0, 0.8, 0.0, 0.2, 0.0, 0.2, 0.2, 0.0, 0.4, 0.4, 0.0, 0.2]"
            ]
          },
          "metadata": {},
          "execution_count": 52
        }
      ]
    },
    {
      "cell_type": "markdown",
      "metadata": {
        "id": "EupU1vampTpX"
      },
      "source": [
        "<a name='sentencelength'></a>\n",
        "\n",
        "### 4. Sentence Length (F2)\n",
        "It is defined as a ratio of the number of words (w) in the current sentence (S) to the number of words in the longest sentence (LS) in the text.   \n",
        "\n",
        "<img alt=\"F2\" src=\"https://drive.google.com/uc?export=view&id=1b42IWpr5svaCyQl6fdnGNWaLP3Rv4bgK\">"
      ]
    },
    {
      "cell_type": "code",
      "source": [
        "def F2_Scores(sentences):\n",
        "  words_in_sentence = []\n",
        "  for i in sentences:\n",
        "    words_in_sentence.append(len(i.split()))\n",
        "  \n",
        "  words_in_long_sent = max(words_in_sentence)\n",
        "\n",
        "  scores = []\n",
        "  for i in words_in_sentence:\n",
        "    s = i / words_in_long_sent\n",
        "    scores.append(s)\n",
        "  \n",
        "  return scores"
      ],
      "metadata": {
        "id": "sZ2NdymdpTpZ"
      },
      "execution_count": null,
      "outputs": []
    },
    {
      "cell_type": "markdown",
      "metadata": {
        "id": "HypVLuILp1Yt"
      },
      "source": [
        "<a name='position'></a>\n",
        "\n",
        "### 5. Sentence position (F3)\n",
        "It is defined as a maximum of the next two relations   \n",
        "\n",
        "<img alt=\"F3\" src=\"https://drive.google.com/uc?export=view&id=1WNqhFyRSkFR7RaGqtZaywOmQVBrUJyb0\">\n"
      ]
    },
    {
      "cell_type": "code",
      "source": [
        "def F3_Scores(document):\n",
        "  # print(len(document))\n",
        "  f3_score = []\n",
        "  n = len(document)\n",
        "  for i in range(n):\n",
        "    a = 1/(i+1)\n",
        "    b = 1/(n-(i+1)+1)\n",
        "    f3_score.append(max(a,b))\n",
        "\n",
        "  return f3_score"
      ],
      "metadata": {
        "id": "7JfyoTVBp1Yv"
      },
      "execution_count": null,
      "outputs": []
    },
    {
      "cell_type": "markdown",
      "metadata": {
        "id": "hMmq_hMGqhDM"
      },
      "source": [
        "<a name='tfidf'></a>\n",
        "\n",
        "### 6. Term Weight (F5)\n",
        "It is defined as a ratio of the sum of the frequencies of term occurrences (TO) in a sentence (S) to the sum of the frequency of term occurrences in the text.   \n",
        "\n",
        "<img alt=\"F5\" src=\"https://drive.google.com/uc?export=view&id=1wS8NV1otHFjgu4NePxkyPwQXFpZ4f93q\">\n"
      ]
    },
    {
      "cell_type": "code",
      "source": [
        "def F5_Scores(document):\n",
        "  pass"
      ],
      "metadata": {
        "id": "AnXir4S0qhDO"
      },
      "execution_count": null,
      "outputs": []
    },
    {
      "cell_type": "markdown",
      "source": [
        "<a name='propernoun'></a>\n",
        "\n",
        "### 7. Proper Noun (F6):     \n",
        "It is defined as a ratio of the number of proper nouns (PN) in a sentence (S) to the length (L) of a sentence\n",
        "\n",
        "<img alt=\"F6\" src=\"https://drive.google.com/uc?export=view&id=1MEBknA87K-vPSlu061F-hOz_c9aHrl6W\">"
      ],
      "metadata": {
        "id": "P2RiE4f3Lsre"
      }
    },
    {
      "cell_type": "code",
      "source": [
        "def F6_Scores(document):\n",
        "  scores = []\n",
        "  for sentence in document:\n",
        "    words_in_sentence = sentence.split()\n",
        "    propernouns = [word for word,pos in nltk.pos_tag(words_in_sentence) if pos == 'NNP']\n",
        "    scores.append(len(propernouns)/len(words_in_sentence))\n",
        "  return scores"
      ],
      "metadata": {
        "id": "w7-hqwIIifER"
      },
      "execution_count": null,
      "outputs": []
    },
    {
      "cell_type": "code",
      "source": [
        "sentences = sent_tokenize(str(documents[0]))\n",
        "# F1_Scores(documents[0])\n",
        "sentences\n",
        "F6_Scores(sentences)"
      ],
      "metadata": {
        "colab": {
          "base_uri": "https://localhost:8080/"
        },
        "id": "8UnWpmS4uyKx",
        "outputId": "a70b890b-469c-4554-e724-23c59fa3a2a1"
      },
      "execution_count": null,
      "outputs": [
        {
          "output_type": "stream",
          "name": "stdout",
          "text": [
            "['Claxton', 'hunting', 'first', 'major', 'medal.']\n",
            "['Claxton']\n",
            "0.2\n",
            "\n",
            "['British', 'hurdler', 'Sarah', 'Claxton', 'is', 'confident', 'she', 'can', 'win', 'her', 'first', 'major', 'medal', 'at', 'next', \"month's\", 'European', 'Indoor', 'Championships', 'in', 'Madrid.']\n",
            "['Sarah', 'Claxton', 'Indoor', 'Championships', 'Madrid.']\n",
            "0.23809523809523808\n",
            "\n",
            "['The', '25-year-old', 'has', 'already', 'smashed', 'the', 'British', 'record', 'over', '60m', 'hurdles', 'twice', 'this', 'season,', 'setting', 'a', 'new', 'mark', 'of', '7.96', 'seconds', 'to', 'win', 'the', 'AAAs', 'title.']\n",
            "['AAAs']\n",
            "0.038461538461538464\n",
            "\n",
            "['\"I', 'am', 'quite', 'confident,\"', 'said', 'Claxton.']\n",
            "['Claxton.']\n",
            "0.16666666666666666\n",
            "\n",
            "['\"But', 'I', 'take', 'each', 'race', 'as', 'it', 'comes.']\n",
            "[]\n",
            "0.0\n",
            "\n",
            "['\"As', 'long', 'as', 'I', 'keep', 'up', 'my', 'training', 'but', 'not', 'do', 'too', 'much', 'I', 'think', 'there', 'is', 'a', 'chance', 'of', 'a', 'medal.\"']\n",
            "[]\n",
            "0.0\n",
            "\n",
            "['Claxton', 'has', 'won', 'the', 'national', '60m', 'hurdles', 'title', 'for', 'the', 'past', 'three', 'years', 'but', 'has', 'struggled', 'to', 'translate', 'her', 'domestic', 'success', 'to', 'the', 'international', 'stage.']\n",
            "['Claxton']\n",
            "0.04\n",
            "\n",
            "['Now,', 'the', 'Scotland-born', 'athlete', 'owns', 'the', 'equal', 'fifth-fastest', 'time', 'in', 'the', 'world', 'this', 'year.']\n",
            "['Scotland-born']\n",
            "0.07142857142857142\n",
            "\n",
            "['And', 'at', 'last', \"week's\", 'Birmingham', 'Grand', 'Prix,', 'Claxton', 'left', 'European', 'medal', 'favourite', 'Russian', 'Irina', 'Shevchenko', 'trailing', 'in', 'sixth', 'spot.']\n",
            "['Birmingham', 'Grand', 'Prix,', 'Claxton', 'Irina', 'Shevchenko']\n",
            "0.3157894736842105\n",
            "\n",
            "['For', 'the', 'first', 'time,', 'Claxton', 'has', 'only', 'been', 'preparing', 'for', 'a', 'campaign', 'over', 'the', 'hurdles', '-', 'which', 'could', 'explain', 'her', 'leap', 'in', 'form.']\n",
            "['Claxton']\n",
            "0.043478260869565216\n",
            "\n",
            "['In', 'previous', 'seasons,', 'the', '25-year-old', 'also', 'contested', 'the', 'long', 'jump', 'but', 'since', 'moving', 'from', 'Colchester', 'to', 'London', 'she', 'has', 're-focused', 'her', 'attentions.']\n",
            "['Colchester', 'London']\n",
            "0.09090909090909091\n",
            "\n",
            "['Claxton', 'will', 'see', 'if', 'her', 'new', 'training', 'regime', 'pays', 'dividends', 'at', 'the', 'European', 'Indoors', 'which', 'take', 'place', 'on', '5-6', 'March.']\n",
            "['Claxton', 'European', 'Indoors', 'March.']\n",
            "0.2\n",
            "\n"
          ]
        },
        {
          "output_type": "execute_result",
          "data": {
            "text/plain": [
              "[0.2,\n",
              " 0.23809523809523808,\n",
              " 0.038461538461538464,\n",
              " 0.16666666666666666,\n",
              " 0.0,\n",
              " 0.0,\n",
              " 0.04,\n",
              " 0.07142857142857142,\n",
              " 0.3157894736842105,\n",
              " 0.043478260869565216,\n",
              " 0.09090909090909091,\n",
              " 0.2]"
            ]
          },
          "metadata": {},
          "execution_count": 74
        }
      ]
    },
    {
      "cell_type": "markdown",
      "metadata": {
        "id": "bak_xHI2hR-u"
      },
      "source": [
        "<a name='numerical'></a>\n",
        "\n",
        "### 8.Numerical Data (F7)\n",
        " It is defined as a ratio of the number of numerical data (ND) in the sentence (S) to the length (L) of the sentence   \n",
        "\n",
        " <img alt=\"F7\" src=\"https://drive.google.com/uc?export=view&id=1tCaSaipvqs3CvpvISyCR5ytNzDCuwJV5\">\n"
      ]
    },
    {
      "cell_type": "code",
      "source": [
        "def F7_Scores(document):\n",
        "  sentences = document\n",
        "  score = []\n",
        "  for sentence in sentences:\n",
        "    num_numerical_data = 0;\n",
        "    count = 0;\n",
        "    for word in word_tokenize(str(sentence)):\n",
        "      if not(word.isalpha()):\n",
        "        \n",
        "        if('-' in word):\n",
        "          for charcter in word.split('-'):\n",
        "            if(charcter.isdigit()):\n",
        "              num_numerical_data+=1\n",
        "        else:\n",
        "          \n",
        "          word = ''.join(c for c in word if (c.isdigit())).strip()\n",
        "          if(word.isdigit()):\n",
        "            if word.isnumeric():\n",
        "              num_numerical_data+=1\n",
        "          count+=1\n",
        "    \n",
        "    score.append(num_numerical_data/count)\n",
        "\n",
        "  return score"
      ],
      "metadata": {
        "id": "VPGTvtjqig3m"
      },
      "execution_count": null,
      "outputs": []
    },
    {
      "cell_type": "markdown",
      "metadata": {
        "id": "V0cod3zwhVE0"
      },
      "source": [
        "<a name='combine'></a>\n",
        "\n",
        "### 9. Combining feature vectors to decide which are representative statements\n",
        "Propose a formula that combines the F scores for any given sentence.   \n",
        "\n",
        "Explain why your formula would allow you to identify the most important sentences as a possible summary of the original article.   \n",
        "\n",
        "Justify your formula with reasons\n"
      ]
    },
    {
      "cell_type": "markdown",
      "source": [],
      "metadata": {
        "id": "PVA5qaIQyQzn"
      }
    },
    {
      "cell_type": "markdown",
      "metadata": {
        "id": "1NBxhc0xsRPW"
      },
      "source": [
        "<a name='validation'></a>\n",
        "\n",
        "### 10. Validation\n",
        "With your formula, show a one sentence summary of each of the given article in your assigned data folder.    \n",
        "\n",
        "Provide an interactive code below for users to enter a random number, say 42, and view the original article (042.txt) and the deduced matching one sentence summary\n"
      ]
    },
    {
      "cell_type": "code",
      "source": [
        "def getBestSentenceForSummary(file_number):\n",
        "  document = documents[file_number - 1]\n",
        "  print(document)\n",
        "  sentences = sent_tokenize(str(document))\n",
        "  f1 = F1_Scores(sentences)\n",
        "  f2 = F2_Scores(sentences)\n",
        "  f3 = F3_Scores(sentences)\n",
        "  f5 = F5_Scores(sentences)\n",
        "  f6 = F6_Scores(sentences)\n",
        "  f7 = F7_Scores(sentences)\n",
        "  weights = [3, 8, 3, 5, 8, 8]\n",
        "  scores = []\n",
        "  max_score = 0\n",
        "  for i, sentence in enumerate(sentences):\n",
        "    score = weights[0] * f1[i] + weights[1] * f2[i] + weights[2] * f3[i] + weights[3] * f5[i] + weights[4] * f6[i] + weights[5] * f7[i]\n",
        "    scores.append(score / sum(weights))\n",
        "    if score > max_score:\n",
        "      max_score = score\n",
        "      best_sentence_index = i\n",
        "  print(sentences[best_sentence_index])\n",
        "  print(scores[best_sentence_index], sum(scores)/len(scores))\n",
        "  return scores"
      ],
      "metadata": {
        "id": "8A8PiP3DsRPs"
      },
      "execution_count": null,
      "outputs": []
    },
    {
      "cell_type": "code",
      "source": [
        "393\n",
        "326"
      ],
      "metadata": {
        "id": "6kOgmhzsUomL"
      },
      "execution_count": null,
      "outputs": []
    },
    {
      "cell_type": "markdown",
      "metadata": {
        "id": "GPob3PBr2-7_"
      },
      "source": [
        "<a name='experiment'></a>\n",
        "\n",
        "### 11. Experiment with removing stopwords, lemmatization, and stemming options in vectorizing the given dataset.\n",
        "- Repeat steps above with one of the three options and see which would be able to return a more representative summary sentence for any given articles in your assigned domain\n",
        "- Consider using your customized stopwords list to enhance results.\n",
        "- What combination of these three options give you the best result.\n",
        "- Explain the why the combination option would yields a representative sentence.\n"
      ]
    },
    {
      "cell_type": "markdown",
      "source": [],
      "metadata": {
        "id": "oGiGC_CynHLe"
      }
    }
  ]
}