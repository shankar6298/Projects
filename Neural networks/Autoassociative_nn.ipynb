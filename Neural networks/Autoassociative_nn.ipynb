{
 "cells": [
  {
   "cell_type": "code",
   "execution_count": null,
   "metadata": {},
   "outputs": [],
   "source": []
  },
  {
   "cell_type": "code",
   "execution_count": null,
   "metadata": {},
   "outputs": [
    {
     "name": "stdout",
     "output_type": "stream",
     "text": [
      "weight matrix=sTranspose*train matrix\n",
      "[[ 1 -1 -1 -1]\n",
      " [-1  1  1  1]\n",
      " [-1  1  1  1]\n",
      " [-1  1  1  1]]\n",
      "test matrix*weight matrix\n",
      "[[-3  3  3  3]\n",
      " [-2  2  2  2]\n",
      " [-2  2  2  2]\n",
      " [ 0  0  0  0]]\n",
      "result\n",
      "[[-1  1  1  1]\n",
      " [-1  1  1  1]\n",
      " [-1  1  1  1]\n",
      " [-1 -1 -1 -1]]\n",
      "overall result\n",
      "[[ True  True  True  True]]\n",
      "[[ True  True  True  True]]\n",
      "[[ True  True  True  True]]\n",
      "[[ True False False False]]\n",
      "None\n"
     ]
    }
   ],
   "source": [
    "import numpy as np\n",
    "\n",
    "def activation(sstm):\n",
    "    solution=[]\n",
    "    for i in sstm:\n",
    "        soln=[]\n",
    "        for j in i:\n",
    "            if j>0:\n",
    "                soln.append(1)\n",
    "            else:\n",
    "                soln.append(-1)\n",
    "        solution.append(soln)\n",
    "    return np.array(solution)\n",
    "\n",
    "def autoassoc(inputMatrix, testMatrix, trainCheckList):\n",
    "    im=np.array(inputMatrix)\n",
    "    tm=np.array(testMatrix)\n",
    "    \n",
    "    im=im.transpose()\n",
    "    stm=im@tm\n",
    "    print(\"weight matrix=sTranspose*train matrix\")\n",
    "    print(stm)\n",
    "    \n",
    "    print(\"test matrix*weight matrix\")\n",
    "    sstm=trainCheckList@stm\n",
    "    print(sstm)\n",
    "    \n",
    "    print(\"result\")\n",
    "    ssstm=activation(sstm)\n",
    "    print(ssstm)\n",
    "    \n",
    "    print(\"overall result\")\n",
    "    for i in range(len(ssstm)):\n",
    "        print(ssstm[i]==tm)\n",
    "    \n",
    "    \n",
    "print(autoassoc([[-1,1,1,1]],[[-1,1,1,1]],[[-1,0,1,1],[1,1,1,1],[0,0,1,1],[1,-1,1,1]]))\n",
    "    "
   ]
  }
 ],
 "metadata": {
  "kernelspec": {
   "display_name": "Python 3",
   "language": "python",
   "name": "python3"
  },
  "language_info": {
   "codemirror_mode": {
    "name": "ipython",
    "version": 3
   },
   "file_extension": ".py",
   "mimetype": "text/x-python",
   "name": "python",
   "nbconvert_exporter": "python",
   "pygments_lexer": "ipython3",
   "version": "3.7.6"
  }
 },
 "nbformat": 4,
 "nbformat_minor": 4
}
