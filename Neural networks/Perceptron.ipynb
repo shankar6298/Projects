{
 "cells": [
  {
   "cell_type": "code",
   "execution_count": 6,
   "metadata": {},
   "outputs": [
    {
     "name": "stdout",
     "output_type": "stream",
     "text": [
      "\n",
      "Epoch # 1\n",
      "yin : 0 y : 0\n",
      "weight [1, 1, -1, -1]\n",
      "delW [1, 1, -1, -1]\n",
      "yin : 0 y : 0\n",
      "weight [2, 0, 0, -2]\n",
      "delW [1, -1, 1, -1]\n",
      "yin : -4 y : -1\n",
      "weight [2, 0, 0, -2]\n",
      "delW [0, 0, 0, 0]\n",
      "yin : -4 y : -1\n",
      "weight [2, 0, 0, -2]\n",
      "delW [0, 0, 0, 0]\n",
      "\n",
      "Epoch # 2\n",
      "yin : 4 y : 1\n",
      "weight [2, 0, 0, -2]\n",
      "delW [0, 0, 0, 0]\n",
      "yin : 4 y : 1\n",
      "weight [2, 0, 0, -2]\n",
      "delW [0, 0, 0, 0]\n",
      "yin : -4 y : -1\n",
      "weight [2, 0, 0, -2]\n",
      "delW [0, 0, 0, 0]\n",
      "yin : -4 y : -1\n",
      "weight [2, 0, 0, -2]\n",
      "delW [0, 0, 0, 0]\n",
      "Final result weights\n"
     ]
    },
    {
     "data": {
      "text/plain": [
       "[2, 0, 0, -2]"
      ]
     },
     "execution_count": 6,
     "metadata": {},
     "output_type": "execute_result"
    }
   ],
   "source": [
    "def activationFunction(value,theta):\n",
    "    if value>=theta:\n",
    "        return 1\n",
    "    elif value<=(-1*theta):\n",
    "        return -1\n",
    "    else:\n",
    "        return 0\n",
    "    \n",
    "def perceptron(inputs, learning_rate, target,theta):\n",
    "    weights=[0 for i in inputs[0]]\n",
    "    outputs=[]\n",
    "    delW=[[0,0,0]]\n",
    "    y=[float(\"inf\") for x in target]\n",
    "    epoch=0\n",
    "    while target!=y:\n",
    "        epoch+=1\n",
    "        print(\"\")\n",
    "        print(\"Epoch #\",epoch)\n",
    "        for i in range(len(inputs)):\n",
    "            yin=0\n",
    "\n",
    "            for j in range(len(inputs[i])):\n",
    "                yin+=inputs[i][j]*weights[j]\n",
    "            y[i]=activationFunction(yin,theta)\n",
    "            outputs.append(y[i])\n",
    "            thisDelW=[]\n",
    "\n",
    "            print(\"yin :\",yin,\"y :\",y[i])\n",
    "            for j in range(len(inputs[0])):\n",
    "                thisDelW.append(learning_rate*inputs[i][j]*target[i])\n",
    "            delW.append(thisDelW)\n",
    "            \n",
    "            prevVal=weights.copy()\n",
    "            if y[i]!=target[i]:\n",
    "                for i in range(len(weights)):\n",
    "                    weights[i]+=thisDelW[i]\n",
    "            \n",
    "            prevVal=[weights[i]-prevVal[i] for i in range(len(weights))]\n",
    "            print(\"weight\",weights)\n",
    "            print(\"delW\",prevVal)\n",
    "    print(\"Final result weights\")\n",
    "    return weights\n",
    "                \n",
    "\n",
    "perceptron([[1,1,-1,-1],[1,-1,1,-1],[-1,-1,-1,1],[-1,-1,1,1]],1,[1,1,-1,-1],0.2)\n",
    "\n",
    "        \n",
    "        \n",
    "        \n",
    "        \n",
    "    \n",
    "    "
   ]
  }
 ],
 "metadata": {
  "kernelspec": {
   "display_name": "Python 3",
   "language": "python",
   "name": "python3"
  },
  "language_info": {
   "codemirror_mode": {
    "name": "ipython",
    "version": 3
   },
   "file_extension": ".py",
   "mimetype": "text/x-python",
   "name": "python",
   "nbconvert_exporter": "python",
   "pygments_lexer": "ipython3",
   "version": "3.7.6"
  }
 },
 "nbformat": 4,
 "nbformat_minor": 4
}
